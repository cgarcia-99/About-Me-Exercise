{
  "nbformat": 4,
  "nbformat_minor": 0,
  "metadata": {
    "colab": {
      "provenance": [],
      "authorship_tag": "ABX9TyNi5WO1/NFrwORaXTaaJJ4+",
      "include_colab_link": true
    },
    "kernelspec": {
      "name": "python3",
      "display_name": "Python 3"
    },
    "language_info": {
      "name": "python"
    }
  },
  "cells": [
    {
      "cell_type": "markdown",
      "metadata": {
        "id": "view-in-github",
        "colab_type": "text"
      },
      "source": [
        "<a href=\"https://colab.research.google.com/github/cgarcia-99/About-Me-Exercise/blob/main/About_me_Page.ipynb\" target=\"_parent\"><img src=\"https://colab.research.google.com/assets/colab-badge.svg\" alt=\"Open In Colab\"/></a>"
      ]
    },
    {
      "cell_type": "markdown",
      "source": [
        "# About me\n",
        "- My name: **Ciro Garcia**\n",
        "- I work at Vitality Works\n",
        "- I'm from Mexico"
      ],
      "metadata": {
        "id": "QVOnyODyoJw9"
      }
    },
    {
      "cell_type": "markdown",
      "source": [
        "# Bold or Italic Text"
      ],
      "metadata": {
        "id": "PDb6ldxLrJE5"
      }
    },
    {
      "cell_type": "markdown",
      "source": [
        "This is **Bold**\n",
        "This is *Italic*\n"
      ],
      "metadata": {
        "id": "Jpw2n9SurTaf"
      }
    },
    {
      "cell_type": "markdown",
      "source": [
        "# Links"
      ],
      "metadata": {
        "id": "bwY0nQz9ri9z"
      }
    },
    {
      "cell_type": "markdown",
      "source": [
        "[Vitality Works](https://www.google.com/url?sa=t&rct=j&q=&esrc=s&source=web&cd=&cad=rja&uact=8&ved=2ahUKEwjV7q3T29iDAxUIATQIHbuxACMQFnoECBIQAQ&url=https%3A%2F%2Fvitalityworks.com%2F&usg=AOvVaw3aRu9Rdl0w028HqPigKvOb&opi=89978449 )"
      ],
      "metadata": {
        "id": "H9GIln5fr262"
      }
    },
    {
      "cell_type": "markdown",
      "source": [
        "# Lists (Hobbies)"
      ],
      "metadata": {
        "id": "wQbcNKbSsLty"
      }
    },
    {
      "cell_type": "markdown",
      "source": [
        "\n",
        "\n",
        "1.   Boxing\n",
        "2.   Running\n",
        "\n"
      ],
      "metadata": {
        "id": "TmOJ74MXsav0"
      }
    },
    {
      "cell_type": "markdown",
      "source": [
        "\n",
        "\n",
        "*   Hiking\n",
        "*   Reading Books\n",
        "\n"
      ],
      "metadata": {
        "id": "19P6JPPctKfN"
      }
    },
    {
      "cell_type": "markdown",
      "source": [
        "# Table Energy Levels"
      ],
      "metadata": {
        "id": "Dg9naSaBtObn"
      }
    },
    {
      "cell_type": "markdown",
      "source": [
        "Monday | Tuesday | Wednesday |\n",
        " - | - | -\n",
        " Exhausted | Tired | Better |"
      ],
      "metadata": {
        "id": "PG1I-CmMujuM"
      }
    },
    {
      "cell_type": "code",
      "source": [],
      "metadata": {
        "id": "WN92uTcWr19C"
      },
      "execution_count": null,
      "outputs": []
    },
    {
      "cell_type": "markdown",
      "source": [
        "![Vitality Works](https://lh3.googleusercontent.com/p/AF1QipPIrMQcsQBLRt13OQg05TXh2CLhzfN8imcZX4GT=s1360-w1360-h1020)"
      ],
      "metadata": {
        "id": "Srs_60DWzZY6"
      }
    },
    {
      "cell_type": "code",
      "source": [],
      "metadata": {
        "id": "1LLNCGt5zzzi"
      },
      "execution_count": null,
      "outputs": []
    }
  ]
}